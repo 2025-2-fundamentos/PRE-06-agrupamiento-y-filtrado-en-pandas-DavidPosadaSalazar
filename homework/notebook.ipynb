{
 "cells": [
  {
   "cell_type": "code",
   "execution_count": null,
   "id": "a8a5378e",
   "metadata": {},
   "outputs": [
    {
     "ename": "",
     "evalue": "",
     "output_type": "error",
     "traceback": [
      "\u001b[1;31mRunning cells with '.venv (Python 3.13.7)' requires the ipykernel package.\n",
      "\u001b[1;31mInstall 'ipykernel' into the Python environment. \n",
      "\u001b[1;31mCommand: 'c:/Users/USUARIO/Documents/GitHub/PRE-06-agrupamiento-y-filtrado-en-pandas-DavidPosadaSalazar/.venv/Scripts/python.exe -m pip install ipykernel -U --force-reinstall'"
     ]
    }
   ],
   "source": [
    "# Preparacion\n",
    "import matplotlib\n",
    "import matplotlib.pyplot as plt\n",
    "import pandas as pd"
   ]
  },
  {
   "cell_type": "code",
   "execution_count": null,
   "id": "566f4fe7",
   "metadata": {},
   "outputs": [],
   "source": [
    "# Carga de la tabla drivers\n",
    "drivers = pd.read_csv(\n",
    "    \"../files/input/drivers.csv\",\n",
    "    sep=\",\",\n",
    "    thousands=None,\n",
    "    decimal=\".\",\n",
    ")\n",
    "drivers.head()\n"
   ]
  },
  {
   "cell_type": "code",
   "execution_count": null,
   "id": "26e30ee0",
   "metadata": {},
   "outputs": [],
   "source": [
    "# Carga de la tabla timesheet\n",
    "timesheet = pd.read_csv(\n",
    "    \"../files/input/timesheet.csv\",\n",
    "    sep=\",\",\n",
    "    thousands=None,\n",
    "    decimal=\".\",\n",
    ")\n",
    "timesheet.head()"
   ]
  },
  {
   "cell_type": "code",
   "execution_count": null,
   "id": "ce65fbaf",
   "metadata": {},
   "outputs": [],
   "source": [
    "\n",
    "# Media de la cantidad de horas y millas de cada conductor por año\n",
    "mean_timesheet = timesheet.groupby(\"driverId\").mean()\n",
    "mean_timesheet.head()\n",
    "\n"
   ]
  },
  {
   "cell_type": "code",
   "execution_count": null,
   "id": "a2757131",
   "metadata": {},
   "outputs": [],
   "source": []
  },
  {
   "cell_type": "code",
   "execution_count": null,
   "id": "4625b41e",
   "metadata": {},
   "outputs": [],
   "source": []
  }
 ],
 "metadata": {
  "kernelspec": {
   "display_name": ".venv",
   "language": "python",
   "name": "python3"
  },
  "language_info": {
   "name": "python",
   "version": "3.13.7"
  }
 },
 "nbformat": 4,
 "nbformat_minor": 5
}
